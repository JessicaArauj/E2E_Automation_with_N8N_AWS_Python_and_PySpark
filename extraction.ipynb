{
  "cells": [
    {
      "cell_type": "markdown",
      "metadata": {
        "id": "view-in-github",
        "colab_type": "text"
      },
      "source": [
        "<a href=\"https://colab.research.google.com/github/JessicaArauj/E2E_Automation_with_N8N_AWS_Python_and_PySpark/blob/main/extraction.ipynb\" target=\"_parent\"><img src=\"https://colab.research.google.com/assets/colab-badge.svg\" alt=\"Open In Colab\"/></a>"
      ]
    },
    {
      "cell_type": "markdown",
      "metadata": {
        "application/vnd.databricks.v1+cell": {
          "cellMetadata": {
            "byteLimit": 2048000,
            "rowLimit": 10000
          },
          "inputWidgets": {},
          "nuid": "72e825bc-119c-4a37-9a86-cf6a371655d4",
          "showTitle": false,
          "tableResultSettingsMap": {},
          "title": ""
        },
        "id": "_thRKIGYKewu"
      },
      "source": [
        "# Install"
      ]
    },
    {
      "cell_type": "code",
      "source": [
        "!pip install boto3 -q --upgrade"
      ],
      "metadata": {
        "colab": {
          "base_uri": "https://localhost:8080/"
        },
        "id": "q212PV_7_5CD",
        "outputId": "d6272d6c-470f-4688-a9c2-9d6c1a1e7c9c"
      },
      "execution_count": null,
      "outputs": [
        {
          "output_type": "stream",
          "name": "stdout",
          "text": [
            "\u001b[2K   \u001b[90m━━━━━━━━━━━━━━━━━━━━━━━━━━━━━━━━━━━━━━━━\u001b[0m \u001b[32m139.3/139.3 kB\u001b[0m \u001b[31m3.6 MB/s\u001b[0m eta \u001b[36m0:00:00\u001b[0m\n",
            "\u001b[2K   \u001b[90m━━━━━━━━━━━━━━━━━━━━━━━━━━━━━━━━━━━━━━━━\u001b[0m \u001b[32m14.0/14.0 MB\u001b[0m \u001b[31m42.6 MB/s\u001b[0m eta \u001b[36m0:00:00\u001b[0m\n",
            "\u001b[2K   \u001b[90m━━━━━━━━━━━━━━━━━━━━━━━━━━━━━━━━━━━━━━━━\u001b[0m \u001b[32m85.7/85.7 kB\u001b[0m \u001b[31m8.2 MB/s\u001b[0m eta \u001b[36m0:00:00\u001b[0m\n",
            "\u001b[?25h"
          ]
        }
      ]
    },
    {
      "cell_type": "markdown",
      "source": [
        "# Imports"
      ],
      "metadata": {
        "id": "YgkjcKzc_78M"
      }
    },
    {
      "cell_type": "code",
      "execution_count": null,
      "metadata": {
        "application/vnd.databricks.v1+cell": {
          "cellMetadata": {
            "byteLimit": 2048000,
            "rowLimit": 10000
          },
          "inputWidgets": {},
          "nuid": "465e1731-fa78-4ff1-951d-212957f777e9",
          "showTitle": false,
          "tableResultSettingsMap": {},
          "title": ""
        },
        "id": "jrzOsiLkKewy"
      },
      "outputs": [],
      "source": [
        "import io\n",
        "import os\n",
        "import zipfile\n",
        "\n",
        "import boto3\n",
        "import requests\n",
        "from pyspark.sql import SparkSession\n",
        "from tqdm import tqdm\n",
        "\n",
        "from google.colab import userdata"
      ]
    },
    {
      "cell_type": "markdown",
      "source": [
        "# Variables"
      ],
      "metadata": {
        "id": "qQC1cQTMALl8"
      }
    },
    {
      "cell_type": "code",
      "source": [
        "AWS_ACCESS_KEY_ID = userdata.get('AWS_ACCESS_KEY_ID')\n",
        "AWS_SECRET_ACCESS_KEY = userdata.get('AWS_SECRET_ACCESS_KEY')\n",
        "AWS_REGION = userdata.get('AWS_REGION')\n",
        "BUCKET_NAME = userdata.get('BUCKET_NAME')"
      ],
      "metadata": {
        "id": "j5QoHppFAOG1"
      },
      "execution_count": null,
      "outputs": []
    },
    {
      "cell_type": "markdown",
      "metadata": {
        "application/vnd.databricks.v1+cell": {
          "cellMetadata": {
            "byteLimit": 2048000,
            "rowLimit": 10000
          },
          "inputWidgets": {},
          "nuid": "d1ddf5b6-a09b-42de-940b-9bdeaceb583c",
          "showTitle": false,
          "tableResultSettingsMap": {},
          "title": ""
        },
        "id": "CXz3NxkFKew0"
      },
      "source": [
        "# Download and upload to S3 on AWS\n",
        "Data from fixed broadband access available on the website https://anatel.gov.br/dadosabertos/paineis_de_dados/acessos/acessos_banda_larga_fixa.zip"
      ]
    },
    {
      "cell_type": "code",
      "source": [
        "spark = SparkSession.builder.appName(\"S3DataLake\").getOrCreate()\n",
        "\n",
        "s3 = boto3.client(\n",
        "    \"s3\",\n",
        "    aws_access_key_id=AWS_ACCESS_KEY_ID,\n",
        "    aws_secret_access_key=AWS_SECRET_ACCESS_KEY,\n",
        "    region_name=AWS_REGION,\n",
        ")\n",
        "\n",
        "download_url = \"https://anatel.gov.br/dadosabertos/paineis_de_dados/acessos/acessos_banda_larga_fixa.zip\"\n",
        "response = requests.get(download_url, stream=True)\n",
        "response.raise_for_status()\n",
        "zip_bytes = io.BytesIO(response.content)\n",
        "\n",
        "zip_key = \"file/acessos_banda_larga_fixa.zip\"\n",
        "try:\n",
        "    s3.upload_fileobj(zip_bytes, BUCKET_NAME, zip_key)\n",
        "    print(f\"ZIP uploaded completed to S3: {BUCKET_NAME}/{zip_key}\")\n",
        "except Exception as e:\n",
        "    print(\"Error uploading to S3:\", e)\n",
        "\n",
        "objects = s3.list_objects_v2(Bucket=BUCKET_NAME, Prefix=\"file/\")\n",
        "for obj in objects.get(\"Contents\", []):\n",
        "    print(\"S3 Object:\", obj[\"Key\"])"
      ],
      "metadata": {
        "id": "OiNVC9mP3zPG"
      },
      "execution_count": null,
      "outputs": []
    }
  ],
  "metadata": {
    "application/vnd.databricks.v1+notebook": {
      "computePreferences": {
        "hardware": {
          "accelerator": null,
          "gpuPoolId": null,
          "memory": null
        }
      },
      "dashboards": [],
      "environmentMetadata": {
        "base_environment": "",
        "environment_version": "3"
      },
      "inputWidgetPreferences": null,
      "language": "python",
      "notebookMetadata": {
        "pythonIndentUnit": 4
      },
      "notebookName": "Browser_extraction",
      "widgets": {}
    },
    "language_info": {
      "name": "python"
    },
    "colab": {
      "provenance": [],
      "include_colab_link": true
    },
    "kernelspec": {
      "name": "python3",
      "display_name": "Python 3"
    }
  },
  "nbformat": 4,
  "nbformat_minor": 0
}